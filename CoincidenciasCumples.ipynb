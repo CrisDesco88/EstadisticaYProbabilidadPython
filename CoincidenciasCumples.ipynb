{
  "nbformat": 4,
  "nbformat_minor": 0,
  "metadata": {
    "colab": {
      "provenance": [],
      "authorship_tag": "ABX9TyOcB0f0juK/IN8KZkyGse2L",
      "include_colab_link": true
    },
    "kernelspec": {
      "name": "python3",
      "display_name": "Python 3"
    },
    "language_info": {
      "name": "python"
    }
  },
  "cells": [
    {
      "cell_type": "markdown",
      "metadata": {
        "id": "view-in-github",
        "colab_type": "text"
      },
      "source": [
        "<a href=\"https://colab.research.google.com/github/CrisDesco88/EstadisticaYProbabilidadPython/blob/main/CoincidenciasCumples.ipynb\" target=\"_parent\"><img src=\"https://colab.research.google.com/assets/colab-badge.svg\" alt=\"Open In Colab\"/></a>"
      ]
    },
    {
      "cell_type": "markdown",
      "source": [
        "Simulación (ejercicio a entregar)\n",
        "\n",
        "Armar una simulación basada en N=1000 repeticiones que permita estimar la probabilidad de que al menos dos personas en un grupo de k personas elegidas al azar cumpla años el mismo día. Dar una lista de las probabilidades estimadas en función de k para k entre 1 y 50. [OPCIONAL] Si es posible, representar esas probabilidades estimadas en un gráfico.\n",
        "\n",
        "Para la construcción de la simulación, se sugiere seguir la estructura propuesta en el apartado de simulaciones numéricas de este Notebook. Es decir, para un valor de k que hayamos fijado, puede hacerse lo siguiente.\n",
        "\n",
        "Para el armado del bullet \"1. Experimento aleatorio\", definir la función cumples(k), que devuelva k fechas de cumpleaños (k números entre 1 y 365).\n",
        "Para el armado del bullet \"2: Muestra aleatoria\", definir una semilla, fijar N y armar N=1000 muestras de cumples(k) que se guarden en muestras.\n",
        "Para el armado del bullet \"3: Una función filtro que caracteriza el evento E\", definir la función hay_coincidencia(cumples) que devuelva TRUE (o un 1) si hay una coincidencia en una lista cumples que sea pasada como argumento. Esta es la función que quizás sea más difícil de implementar. Hay muchas formas de hacerlo. Como pista, la función set() que ya usamos es una estructura de datos ideal para contener objetos sin repeticiones.\n",
        "Para el armado del bullet \"4: Aproximamos P(E) por la proporción de elementos de E en la muestra\" contar la proporción de hay_coincidencia() en las N repeticiones de la muestra y devolver ese valor.\n",
        "[SUGERENCIA] Como quiere estimarse la probabilidad en las simulaciones para grupos de k personas, donde k varía desde 0 hasta 50 personas, puede crearse una función proporcion_coincidencia(k,N) que devuelva directamente una aproximación a la probabilidad de coincidencia en función del número de personas k; sin tener que simular las N repeticiones en cada caso por separado. En esta función proporcion_coincidencia(k,N) pueden usarse, dentro, las funciones cumples() y hay_coincidencia().\n"
      ],
      "metadata": {
        "id": "x9d56CU9xS7V"
      }
    },
    {
      "cell_type": "code",
      "execution_count": null,
      "metadata": {
        "id": "b0iE9jMrRAOd"
      },
      "outputs": [],
      "source": [
        "#1. Experimento aleatorio: definir la función cumples(k), que devuelva k fechas de cumpleaños (k números entre 1 y 365).\n",
        "import random as rd\n",
        "def cumples(k):\n",
        "  return [rd.randint(1,365) for _ in range(k)]\n",
        "\n",
        "# Definición de función para chequear coincidencias\n",
        "#Si la longitud de el set de la lista es diferente que la longitud de la lista quiere decir\n",
        "#que hay coincidencia en al menos un par de elementos de la misma por lo que la función devolverá True.\n",
        "\n",
        "def hay_coincidencia(cumples):\n",
        "  return len(set(cumples)) != len(cumples)\n",
        "\n",
        "#Chequeamos la proporción de coincidencias en N repeticiones de la muestras.\n",
        "#Retorna la suma de coincidencias dividida la cantidad de repeticiones.\n",
        "\n",
        "def proporcion_coincidencia(k, N=100):\n",
        "  coincidencias = [hay_coincidencia(cumples(k)) for _ in range(N)]\n",
        "  return sum(coincidencias)/N\n",
        "\n",
        "#Obtenemos las probabilidades de coincidencia para un k en un rango de 0  a 50\n",
        "\n",
        "probabilidades = [proporcion_coincidencia(k) for k in range(0,50)]\n",
        "\n",
        "for k,probabilidad in enumerate(probabilidades):\n",
        "  print(f\"k = {k +1}: {probabilidad}\")\n",
        "\n",
        "import matplotlib.pyplot as plt\n",
        "\n",
        "plt.plot(range(0,50), probabilidades)\n",
        "plt.xlabel(\"k\")\n",
        "plt.ylabel(\"Probabilidad\")\n",
        "plt.title(\"Probabilidad de que al menos dos personas en un grupo de k personas elegidas al azar cumplan años el mismo día\")\n",
        "plt.show()\n"
      ]
    },
    {
      "cell_type": "code",
      "source": [],
      "metadata": {
        "id": "bg79ZZ-Wa4fT"
      },
      "execution_count": null,
      "outputs": []
    },
    {
      "cell_type": "markdown",
      "source": [],
      "metadata": {
        "id": "ZWUtuq6xdgN6"
      }
    }
  ]
}